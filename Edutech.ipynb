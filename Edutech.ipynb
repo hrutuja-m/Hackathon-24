{
  "nbformat": 4,
  "nbformat_minor": 0,
  "metadata": {
    "colab": {
      "provenance": [],
      "toc_visible": true
    },
    "kernelspec": {
      "name": "python3",
      "display_name": "Python 3"
    },
    "language_info": {
      "name": "python"
    }
  },
  "cells": [
    {
      "cell_type": "code",
      "execution_count": 1,
      "metadata": {
        "id": "OOte-2eBRZv4"
      },
      "outputs": [],
      "source": [
        "from sklearn.model_selection import train_test_split\n",
        "from sklearn.tree import DecisionTreeClassifier\n",
        "from sklearn.metrics import classification_report\n"
      ]
    },
    {
      "cell_type": "markdown",
      "source": [],
      "metadata": {
        "id": "2FHhm1d9R1Qv"
      }
    },
    {
      "cell_type": "code",
      "source": [
        "def check_score(correct_answers, student_answers):\n",
        "    \"\"\"\n",
        "    Function to check the score of a student's assessment.\n",
        "\n",
        "    Parameters:\n",
        "    - correct_answers: List of correct answers.\n",
        "    - student_answers: List of student's answers.\n",
        "\n",
        "    Returns:\n",
        "    - Score out of 10.\n",
        "    \"\"\"\n",
        "    score = 0\n",
        "    for i in range(len(correct_answers)):\n",
        "        if correct_answers[i] == student_answers[i]:\n",
        "            score += 1\n",
        "    return score"
      ],
      "metadata": {
        "id": "lz6QxSF5VH0C"
      },
      "execution_count": 9,
      "outputs": []
    },
    {
      "cell_type": "markdown",
      "source": [
        "# Step 1: Create a dataset"
      ],
      "metadata": {
        "id": "cy4R0QCbSCXF"
      }
    },
    {
      "cell_type": "code",
      "source": [
        "# Example dataset (replace it with your actual data)\n",
        "X = [[6], [8], [4], [7], [3], [9], [5], [2], [10], [7]]\n",
        "y = ['Average', 'Strong', 'Average', 'Strong', 'Weak', 'Strong', 'Weak', 'Weak', 'Strong', 'Strong']\n"
      ],
      "metadata": {
        "id": "oGm4WvFhRr48"
      },
      "execution_count": 2,
      "outputs": []
    },
    {
      "cell_type": "markdown",
      "source": [
        "# Step 2: Model Training\n"
      ],
      "metadata": {
        "id": "nCP7WR5gR7dv"
      }
    },
    {
      "cell_type": "code",
      "source": [
        "X_train, X_test, y_train, y_test = train_test_split(X, y, test_size=0.2, random_state=42)\n",
        "\n"
      ],
      "metadata": {
        "id": "wSCcxM2UR9W-"
      },
      "execution_count": 3,
      "outputs": []
    },
    {
      "cell_type": "code",
      "source": [
        "# Initialize and train the Decision Tree classifier\n",
        "clf = DecisionTreeClassifier()\n",
        "clf.fit(X_train, y_train)"
      ],
      "metadata": {
        "colab": {
          "base_uri": "https://localhost:8080/",
          "height": 74
        },
        "id": "hMt--RW5SfYg",
        "outputId": "51eef06e-9df2-4809-a8c1-c9378188f12d"
      },
      "execution_count": 4,
      "outputs": [
        {
          "output_type": "execute_result",
          "data": {
            "text/plain": [
              "DecisionTreeClassifier()"
            ],
            "text/html": [
              "<style>#sk-container-id-1 {color: black;background-color: white;}#sk-container-id-1 pre{padding: 0;}#sk-container-id-1 div.sk-toggleable {background-color: white;}#sk-container-id-1 label.sk-toggleable__label {cursor: pointer;display: block;width: 100%;margin-bottom: 0;padding: 0.3em;box-sizing: border-box;text-align: center;}#sk-container-id-1 label.sk-toggleable__label-arrow:before {content: \"▸\";float: left;margin-right: 0.25em;color: #696969;}#sk-container-id-1 label.sk-toggleable__label-arrow:hover:before {color: black;}#sk-container-id-1 div.sk-estimator:hover label.sk-toggleable__label-arrow:before {color: black;}#sk-container-id-1 div.sk-toggleable__content {max-height: 0;max-width: 0;overflow: hidden;text-align: left;background-color: #f0f8ff;}#sk-container-id-1 div.sk-toggleable__content pre {margin: 0.2em;color: black;border-radius: 0.25em;background-color: #f0f8ff;}#sk-container-id-1 input.sk-toggleable__control:checked~div.sk-toggleable__content {max-height: 200px;max-width: 100%;overflow: auto;}#sk-container-id-1 input.sk-toggleable__control:checked~label.sk-toggleable__label-arrow:before {content: \"▾\";}#sk-container-id-1 div.sk-estimator input.sk-toggleable__control:checked~label.sk-toggleable__label {background-color: #d4ebff;}#sk-container-id-1 div.sk-label input.sk-toggleable__control:checked~label.sk-toggleable__label {background-color: #d4ebff;}#sk-container-id-1 input.sk-hidden--visually {border: 0;clip: rect(1px 1px 1px 1px);clip: rect(1px, 1px, 1px, 1px);height: 1px;margin: -1px;overflow: hidden;padding: 0;position: absolute;width: 1px;}#sk-container-id-1 div.sk-estimator {font-family: monospace;background-color: #f0f8ff;border: 1px dotted black;border-radius: 0.25em;box-sizing: border-box;margin-bottom: 0.5em;}#sk-container-id-1 div.sk-estimator:hover {background-color: #d4ebff;}#sk-container-id-1 div.sk-parallel-item::after {content: \"\";width: 100%;border-bottom: 1px solid gray;flex-grow: 1;}#sk-container-id-1 div.sk-label:hover label.sk-toggleable__label {background-color: #d4ebff;}#sk-container-id-1 div.sk-serial::before {content: \"\";position: absolute;border-left: 1px solid gray;box-sizing: border-box;top: 0;bottom: 0;left: 50%;z-index: 0;}#sk-container-id-1 div.sk-serial {display: flex;flex-direction: column;align-items: center;background-color: white;padding-right: 0.2em;padding-left: 0.2em;position: relative;}#sk-container-id-1 div.sk-item {position: relative;z-index: 1;}#sk-container-id-1 div.sk-parallel {display: flex;align-items: stretch;justify-content: center;background-color: white;position: relative;}#sk-container-id-1 div.sk-item::before, #sk-container-id-1 div.sk-parallel-item::before {content: \"\";position: absolute;border-left: 1px solid gray;box-sizing: border-box;top: 0;bottom: 0;left: 50%;z-index: -1;}#sk-container-id-1 div.sk-parallel-item {display: flex;flex-direction: column;z-index: 1;position: relative;background-color: white;}#sk-container-id-1 div.sk-parallel-item:first-child::after {align-self: flex-end;width: 50%;}#sk-container-id-1 div.sk-parallel-item:last-child::after {align-self: flex-start;width: 50%;}#sk-container-id-1 div.sk-parallel-item:only-child::after {width: 0;}#sk-container-id-1 div.sk-dashed-wrapped {border: 1px dashed gray;margin: 0 0.4em 0.5em 0.4em;box-sizing: border-box;padding-bottom: 0.4em;background-color: white;}#sk-container-id-1 div.sk-label label {font-family: monospace;font-weight: bold;display: inline-block;line-height: 1.2em;}#sk-container-id-1 div.sk-label-container {text-align: center;}#sk-container-id-1 div.sk-container {/* jupyter's `normalize.less` sets `[hidden] { display: none; }` but bootstrap.min.css set `[hidden] { display: none !important; }` so we also need the `!important` here to be able to override the default hidden behavior on the sphinx rendered scikit-learn.org. See: https://github.com/scikit-learn/scikit-learn/issues/21755 */display: inline-block !important;position: relative;}#sk-container-id-1 div.sk-text-repr-fallback {display: none;}</style><div id=\"sk-container-id-1\" class=\"sk-top-container\"><div class=\"sk-text-repr-fallback\"><pre>DecisionTreeClassifier()</pre><b>In a Jupyter environment, please rerun this cell to show the HTML representation or trust the notebook. <br />On GitHub, the HTML representation is unable to render, please try loading this page with nbviewer.org.</b></div><div class=\"sk-container\" hidden><div class=\"sk-item\"><div class=\"sk-estimator sk-toggleable\"><input class=\"sk-toggleable__control sk-hidden--visually\" id=\"sk-estimator-id-1\" type=\"checkbox\" checked><label for=\"sk-estimator-id-1\" class=\"sk-toggleable__label sk-toggleable__label-arrow\">DecisionTreeClassifier</label><div class=\"sk-toggleable__content\"><pre>DecisionTreeClassifier()</pre></div></div></div></div></div>"
            ]
          },
          "metadata": {},
          "execution_count": 4
        }
      ]
    },
    {
      "cell_type": "markdown",
      "source": [
        "# Step 3: Prediction\n"
      ],
      "metadata": {
        "id": "jtUqQg4gSkEU"
      }
    },
    {
      "cell_type": "code",
      "source": [
        "# Assume 'new_score' is the quiz score of a new student\n",
        "new_score = [[7]]"
      ],
      "metadata": {
        "id": "BVZJ5TYlSmU-"
      },
      "execution_count": 5,
      "outputs": []
    },
    {
      "cell_type": "code",
      "source": [
        "# Predict the category of the new student\n",
        "predicted_category = clf.predict(new_score)[0]"
      ],
      "metadata": {
        "id": "E2vlGbxLSvIg"
      },
      "execution_count": 6,
      "outputs": []
    },
    {
      "cell_type": "markdown",
      "source": [
        "# Step 4: Recommendation\n"
      ],
      "metadata": {
        "id": "cXCoCBE2SzjA"
      }
    },
    {
      "cell_type": "code",
      "source": [
        "# Define recommended videos for each category\n",
        "recommendations = {\n",
        "    'Weak': ['Video 1', 'Video 2'],\n",
        "    'Average': ['Video 3', 'Video 4'],\n",
        "    'Strong': ['Video 5', 'Video 6']\n",
        "}\n"
      ],
      "metadata": {
        "id": "7jSpKOrzS1TT"
      },
      "execution_count": 7,
      "outputs": []
    },
    {
      "cell_type": "code",
      "source": [
        "# Print the predicted category and recommended videos\n",
        "print(\"Predicted Category:\", predicted_category)\n",
        "print(\"Recommended Videos:\", recommendations[predicted_category])"
      ],
      "metadata": {
        "colab": {
          "base_uri": "https://localhost:8080/"
        },
        "id": "UlSkhrkfS_Yz",
        "outputId": "5dae4b1d-d971-4665-b4d7-584fcfa305fe"
      },
      "execution_count": 8,
      "outputs": [
        {
          "output_type": "stream",
          "name": "stdout",
          "text": [
            "Predicted Category: Strong\n",
            "Recommended Videos: ['Video 5', 'Video 6']\n"
          ]
        }
      ]
    },
    {
      "cell_type": "markdown",
      "source": [
        "# with score"
      ],
      "metadata": {
        "id": "XZEr0C5PWPwG"
      }
    },
    {
      "cell_type": "code",
      "source": [
        "from sklearn.model_selection import train_test_split\n",
        "from sklearn.tree import DecisionTreeClassifier\n",
        "\n",
        "def check_score(correct_answers, student_answers):\n",
        "    \"\"\"\n",
        "    Function to check the score of a student's assessment.\n",
        "\n",
        "    Parameters:\n",
        "    - correct_answers: List of correct answers.\n",
        "    - student_answers: List of student's answers.\n",
        "\n",
        "    Returns:\n",
        "    - Score out of 10.\n",
        "    \"\"\"\n",
        "    score = 0\n",
        "    for i in range(len(correct_answers)):\n",
        "        if correct_answers[i] == student_answers[i]:\n",
        "            score += 1\n",
        "    return score\n",
        "\n",
        "# Step 1: Create a dataset (similar to previous code)\n",
        "\n",
        "# Example dataset (replace it with your actual data)\n",
        "X = [[6], [8], [4], [7], [3], [9], [5], [2], [10], [7]]\n",
        "y = ['Average', 'Strong', 'Average', 'Strong', 'Weak', 'Strong', 'Weak', 'Weak', 'Strong', 'Strong']\n",
        "\n",
        "# Step 2: Model Training (similar to previous code)\n",
        "# Split the dataset into training and testing sets\n",
        "X_train, X_test, y_train, y_test = train_test_split(X, y, test_size=0.2, random_state=42)\n",
        "\n",
        "# Initialize and train the Decision Tree classifier\n",
        "clf = DecisionTreeClassifier()\n",
        "clf.fit(X_train, y_train)\n",
        "\n",
        "# Step 3: User Input (Assessment Score)\n",
        "# Assume correct answers are predefined\n",
        "correct_answers = ['A', 'B', 'C', 'D', 'A', 'B', 'C', 'D', 'A', 'B']\n",
        "\n",
        "# Student's answers (assuming they input their answers)\n",
        "student_answers = []\n",
        "for i in range(10):\n",
        "    ans = input(f\"Enter your answer for question {i + 1} (A/B/C/D): \").upper()\n",
        "    student_answers.append(ans)\n",
        "\n",
        "# Check the assessment score\n",
        "assessment_score = check_score(correct_answers, student_answers)\n",
        "\n",
        "# Step 4: Prediction\n",
        "# Predict the category based on the assessment score\n",
        "if assessment_score < 5:\n",
        "    predicted_category = 'Weak'\n",
        "elif 5 <= assessment_score <= 7:\n",
        "    predicted_category = 'Average'\n",
        "else:\n",
        "    predicted_category = 'Strong'\n",
        "\n",
        "# Step 5: Feedback and Recommendation\n",
        "# Define recommended videos for each category\n",
        "recommendations = {\n",
        "    'Weak': ['Video 1', 'Video 2'],\n",
        "    'Average': ['Video 3', 'Video 4'],\n",
        "    'Strong': ['Video 5', 'Video 6']\n",
        "}\n",
        "\n",
        "# Print feedback and recommended videos\n",
        "print(\"Assessment Score:\", assessment_score)\n",
        "print(\"Predicted Category:\", predicted_category)\n",
        "print(\"Recommended Videos:\", recommendations[predicted_category])\n"
      ],
      "metadata": {
        "colab": {
          "base_uri": "https://localhost:8080/"
        },
        "id": "H0ru3AypWZ4q",
        "outputId": "310f0af0-206a-4579-93fa-e25511a02eff"
      },
      "execution_count": 10,
      "outputs": [
        {
          "output_type": "stream",
          "name": "stdout",
          "text": [
            "Enter your answer for question 1 (A/B/C/D): A\n",
            "Enter your answer for question 2 (A/B/C/D): B\n",
            "Enter your answer for question 3 (A/B/C/D): A\n",
            "Enter your answer for question 4 (A/B/C/D): D\n",
            "Enter your answer for question 5 (A/B/C/D): A\n",
            "Enter your answer for question 6 (A/B/C/D): C\n",
            "Enter your answer for question 7 (A/B/C/D): C\n",
            "Enter your answer for question 8 (A/B/C/D): B\n",
            "Enter your answer for question 9 (A/B/C/D): C\n",
            "Enter your answer for question 10 (A/B/C/D): D\n",
            "Assessment Score: 5\n",
            "Predicted Category: Average\n",
            "Recommended Videos: ['Video 3', 'Video 4']\n"
          ]
        }
      ]
    }
  ]
}